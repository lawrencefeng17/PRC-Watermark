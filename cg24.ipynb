{
 "cells": [
  {
   "cell_type": "code",
   "execution_count": 1,
   "metadata": {},
   "outputs": [],
   "source": [
    "import torch\n",
    "import numpy as np\n",
    "import pickle\n",
    "import json\n",
    "from collections import defaultdict\n",
    "import argparse\n",
    "import os\n",
    "from tqdm import tqdm\n",
    "import matplotlib.pyplot as plt\n",
    "\n",
    "from src.prc import Encode, Encode_simple, Decode, KeyGen\n",
    "\n",
    "from transformers import AutoTokenizer, AutoModelForCausalLM, AutoConfig, set_seed\n",
    "from datasets import load_dataset"
   ]
  },
  {
   "cell_type": "code",
   "execution_count": 2,
   "metadata": {},
   "outputs": [],
   "source": [
    "def build_huffman_tree(frequencies):\n",
    "    #using a dictionary instead of a heap\n",
    "    nodes = {symbol: {\"freq\": freq, \"left\": None, \"right\": None, \"symbol\": symbol} for symbol, freq in frequencies.items()}\n",
    "    while len(nodes) > 1:\n",
    "        #find two least frequent nodes\n",
    "        left_symbol, right_symbol = sorted(nodes, key=lambda symbol: nodes[symbol][\"freq\"])[:2]\n",
    "        left_node = nodes.pop(left_symbol)\n",
    "        right_node = nodes.pop(right_symbol)\n",
    "        new_node = {\"freq\": left_node[\"freq\"] + right_node[\"freq\"], \"left\": left_node, \"right\": right_node}\n",
    "        nodes[f\"{left_symbol}, {right_symbol}\"] = new_node\n",
    "\n",
    "    [(root_symbol, root_node)] = nodes.items()\n",
    "    return root_node\n",
    "\n",
    "def generate_huffman_codes(tree):\n",
    "    codes = {}\n",
    "    def traverse(node, current_code=\"\"):\n",
    "        if node[\"left\"] is None and node[\"right\"] is None:\n",
    "            # Store the code for the symbol, not the frequency\n",
    "            codes[node[\"symbol\"]] = current_code\n",
    "            return\n",
    "        traverse(node[\"left\"], current_code + \"0\")\n",
    "        traverse(node[\"right\"], current_code + \"1\")\n",
    "    traverse(tree)\n",
    "    return codes\n",
    "\n",
    "def huffman_encode(frequencies):\n",
    "  tree = build_huffman_tree(frequencies)\n",
    "  codes = generate_huffman_codes(tree)\n",
    "  encoding = {token: codes[token] for token, freq in frequencies.items()}\n",
    "  return encoding\n",
    "\n",
    "def huffman_decode(encoding, encoded_string):\n",
    "    decoding = {code: symbol for symbol, code in encoding.items()} # This line was correct\n",
    "    decoded_sequence = []\n",
    "    current_code = \"\"\n",
    "    for bit in encoded_string:\n",
    "        current_code += bit\n",
    "        if current_code in decoding:\n",
    "            decoded_sequence.append(decoding[current_code])\n",
    "            current_code = \"\"\n",
    "    return decoded_sequence"
   ]
  },
  {
   "cell_type": "code",
   "execution_count": 35,
   "metadata": {},
   "outputs": [],
   "source": [
    "class BinarizedModel:\n",
    "    def __init__(self, original_model, encoding_key, decoding_key, n, tokenizer=None, frequencies=None, encoding=None, decoding=None):\n",
    "        \"\"\"\n",
    "        Args:\n",
    "            original_model: The original (non-binary) language model.\n",
    "            encoding_key: The key for the PRC encoding.\n",
    "            tokenizer: The tokenizer for the model.\n",
    "            frequencies: A dictionary mapping original tokens to frequencies.\n",
    "            encoding:  A dictionary mapping original tokens to binary strings (prefix-free).\n",
    "            decoding: A dictionary mapping binary strings to original tokens.\n",
    "        \"\"\"\n",
    "        self.original_model = original_model\n",
    "        self.tokenizer = tokenizer\n",
    "        self.device = next(original_model.parameters()).device\n",
    "        self.encoding_key = encoding_key\n",
    "        self.decoding_key = decoding_key\n",
    "        X_pm1 = Encode_simple(encoding_key)\n",
    "        self.prc_codeword = ((1 - X_pm1) / 2).long()\n",
    "\n",
    "        assert len(self.prc_codeword) == n\n",
    "        self.n = n\n",
    "\n",
    "        self.prc_index = 0\n",
    "\n",
    "        assert frequencies is not None or (encoding is not None and decoding is not None)\n",
    "\n",
    "        if frequencies is not None:\n",
    "            self.generate_huffman_encoding(frequencies)\n",
    "        else:\n",
    "            self.encoding = encoding\n",
    "            self.decoding = decoding  # Corrected: This should be the *decoding* dict\n",
    "            \n",
    "        # Precompute prefix mappings for optimization\n",
    "        self._precompute_prefix_mappings()\n",
    "\n",
    "    def _precompute_prefix_mappings(self):\n",
    "        \"\"\"\n",
    "        Precompute mappings from prefixes to possible tokens for faster lookup.\n",
    "        This builds a dictionary mapping each possible prefix to the set of tokens\n",
    "        that could follow it.\n",
    "        \"\"\"\n",
    "        # Initialize prefix-to-tokens mapping\n",
    "        self.prefix_to_tokens = {}\n",
    "        \n",
    "        # For each token and its binary code\n",
    "        for token_id, code in self.encoding.items():\n",
    "            # Add all prefixes of this code to the mapping\n",
    "            for i in range(len(code) + 1):\n",
    "                prefix = code[:i]\n",
    "                if prefix not in self.prefix_to_tokens:\n",
    "                    self.prefix_to_tokens[prefix] = set()\n",
    "                self.prefix_to_tokens[prefix].add(token_id)\n",
    "                \n",
    "        # Convert sets to frozen sets for efficiency\n",
    "        self.prefix_to_tokens = {prefix: frozenset(tokens) for prefix, tokens in self.prefix_to_tokens.items()}\n",
    "        \n",
    "        # Create mapping from prefix + bit to new possible tokens\n",
    "        self.prefix_extension = {}\n",
    "        for prefix in self.prefix_to_tokens:\n",
    "            self.prefix_extension[(prefix, '0')] = frozenset(\n",
    "                token_id for token_id in self.prefix_to_tokens[prefix]\n",
    "                if len(self.encoding[token_id]) > len(prefix) and self.encoding[token_id][len(prefix):len(prefix)+1] == '0'\n",
    "            )\n",
    "            self.prefix_extension[(prefix, '1')] = frozenset(\n",
    "                token_id for token_id in self.prefix_to_tokens[prefix]\n",
    "                if len(self.encoding[token_id]) > len(prefix) and self.encoding[token_id][len(prefix):len(prefix)+1] == '1'\n",
    "            )\n",
    "\n",
    "    def generate_huffman_encoding(self, frequencies):\n",
    "        self.encoding = huffman_encode(frequencies)\n",
    "        self.decoding = {code: token_id for token_id, code in self.encoding.items()}\n",
    "        \n",
    "    def predict_binary_probs(self, original_token_probs, prefix):\n",
    "        \"\"\"\n",
    "        Optimized version that calculates the probability of the next bit being 0 or 1.\n",
    "        \n",
    "        For bit 0: sum probabilities of tokens whose encoding starts with prefix+'0'\n",
    "        For bit 1: sum probabilities of tokens whose encoding starts with prefix+'1'\n",
    "        \"\"\"\n",
    "        # Get tokens that could follow this prefix with a 0 or 1\n",
    "        prefix_plus_zero = (prefix, '0')\n",
    "        prefix_plus_one = (prefix, '1')\n",
    "        \n",
    "        # Get tokens that could follow this prefix with a 0\n",
    "        tokens_with_zero = self.prefix_extension.get(prefix_plus_zero, frozenset())\n",
    "        # Get tokens that could follow this prefix with a 1\n",
    "        tokens_with_one = self.prefix_extension.get(prefix_plus_one, frozenset())\n",
    "        \n",
    "        # If no possible continuations, return equal probabilities\n",
    "        if not tokens_with_zero and not tokens_with_one:\n",
    "            assert False\n",
    "        \n",
    "        # Calculate probability for bit '0'\n",
    "        prob_of_zero = sum(original_token_probs.get(token_id, 0) for token_id in tokens_with_zero)\n",
    "        # Calculate probability for bit '1'\n",
    "        prob_of_one = sum(original_token_probs.get(token_id, 0) for token_id in tokens_with_one)\n",
    "        \n",
    "        # Normalize to ensure they sum to 1\n",
    "        total = prob_of_zero + prob_of_one\n",
    "        if total > 0:\n",
    "            prob_of_zero /= total\n",
    "            prob_of_one /= total\n",
    "        else:\n",
    "            # If all tokens have zero probability, default to equal probabilities\n",
    "            prob_of_zero = 0.5\n",
    "            prob_of_one = 0.5\n",
    "        \n",
    "        prob_of_one = min(prob_of_one, 1.0)\n",
    "        # For efficiency, return both probabilities\n",
    "        return 1.0 - prob_of_one, prob_of_one\n",
    "\n",
    "    def sample_binary_token(self, x_i, hat_p_i):\n",
    "        \"\"\"\n",
    "        Samples a binary token from the biased probabilities.\n",
    "\n",
    "        x_i is the current index in the PRC codeword.\n",
    "        hat_p_i is the E[p] which specifies the distribution over the next binary token.\n",
    "        \"\"\"\n",
    "        if hat_p_i <= 0.5:\n",
    "            # t_i <- Ber(2x_i * hat_p_i)\n",
    "            return np.random.binomial(1, 2 * x_i * hat_p_i)\n",
    "        else:\n",
    "            # t_i <- Ber(1 - 2(1 - x_i)(1 - hat_p_i))\n",
    "            return np.random.binomial(1, 1 - 2 * (1 - x_i) * (1 - hat_p_i))\n",
    "\n",
    "    def watermarked_generate(self, prompt, num_bits, debug=True):\n",
    "        \"\"\"\n",
    "        Generates text using the watermarked, binarized model with KV-caching for improved efficiency.\n",
    "        \n",
    "        Args:\n",
    "            prompt: The initial prompt for generation\n",
    "            num_bits: The number of binary bits to generate\n",
    "            debug: Whether to generate debug plots and statistics (default True for backward compatibility)\n",
    "        \"\"\"\n",
    "        binary_tokens = []\n",
    "        output_tokens = []\n",
    "        output_text = \"\"\n",
    "\n",
    "        # Encode the prompt and prepare for generation\n",
    "        input_ids = self.tokenizer.encode(prompt, return_tensors=\"pt\").to(self.device)\n",
    "\n",
    "        # Store the hat_p_i values for debugging\n",
    "        hat_p_i_values = [] if debug else None\n",
    "        entropies = [] if debug else None\n",
    "\n",
    "        # Initial forward pass to get the KV cache for the prompt\n",
    "        with torch.no_grad():\n",
    "            # Get the initial output and KV cache\n",
    "            outputs = self.original_model(input_ids=input_ids, use_cache=True)\n",
    "            past_key_values = outputs.past_key_values\n",
    "            logits = outputs.logits[0, -1, :]  # Get logits for the last token\n",
    "            probs = torch.softmax(logits, dim=0)\n",
    "            original_token_probs = {i: probs[i].item() for i in range(len(probs))}\n",
    "            entropy = -torch.sum(probs * torch.log2(probs))\n",
    "            entropies.append(entropy)\n",
    "\n",
    "        with tqdm(total=num_bits, desc=\"Generating bits\", disable=not debug) as pbar:\n",
    "            while len(binary_tokens) < num_bits:\n",
    "                prefix = \"\"\n",
    "                # loop until s becomes a valid encoding, and do not stop if eos_token is generated\n",
    "                while True:\n",
    "                    prob_of_zero, prob_of_one = self.predict_binary_probs(original_token_probs, prefix)\n",
    "\n",
    "                    if debug:\n",
    "                        hat_p_i_values.append(prob_of_one)\n",
    "\n",
    "                    # Sample bit using PRC watermarking\n",
    "                    x_i = self.prc_codeword[self.prc_index].item() \n",
    "                    next_bit = self.sample_binary_token(x_i, prob_of_one)\n",
    "                    binary_tokens.append(next_bit)\n",
    "                    self.prc_index += 1\n",
    "                    if debug:\n",
    "                        pbar.update(1)\n",
    "\n",
    "                    # if we've used all the bits in the PRC codeword, reset it\n",
    "                    if self.prc_index == len(self.prc_codeword):\n",
    "                        if debug:\n",
    "                            print(\"Generating new PRC codeword\")\n",
    "                        self.prc_index = 0\n",
    "                        self.prc_codeword = (Encode(self.encoding_key) + 1) / 2\n",
    "\n",
    "                    prefix += str(next_bit)\n",
    "\n",
    "                    if prefix in self.decoding:\n",
    "                        decoded_token_id = self.decoding[prefix] \n",
    "                        output_tokens.append(decoded_token_id)\n",
    "                        decoded_str = self.tokenizer.decode([decoded_token_id])\n",
    "                        output_text += decoded_str\n",
    "                        \n",
    "                        # Create a tensor with just the new token for the forward pass\n",
    "                        next_token_tensor = torch.tensor([[decoded_token_id]], device=self.device)\n",
    "                        \n",
    "                        # Forward pass with KV cache\n",
    "                        with torch.no_grad():\n",
    "                            outputs = self.original_model(\n",
    "                                input_ids=next_token_tensor,\n",
    "                                past_key_values=past_key_values,\n",
    "                                use_cache=True\n",
    "                            )\n",
    "                            # Update KV cache for next iteration\n",
    "                            past_key_values = outputs.past_key_values\n",
    "                            \n",
    "                            # Get logits for the next token prediction\n",
    "                            logits = outputs.logits[0, -1, :]\n",
    "                            probs = torch.softmax(logits, dim=0)\n",
    "                            original_token_probs = {i: probs[i].item() for i in range(len(probs))}\n",
    "                            entropy = -torch.sum(probs * torch.log2(probs))\n",
    "                            entropies.append(entropy)\n",
    "                            \n",
    "                        break # Exit the inner loop\n",
    "\n",
    "                    if len(binary_tokens) >= num_bits:\n",
    "                        break\n",
    "                \n",
    "                if len(binary_tokens) >= num_bits:\n",
    "                    break\n",
    "\n",
    "        if debug:\n",
    "            print(f\"Generated {len(hat_p_i_values)} binary bits.\")\n",
    "            # Plot histogram or print summary statistics\n",
    "            plt.hist(hat_p_i_values, bins=20, range=(0, 1))\n",
    "            plt.title(\"Distribution of hat_p_i values encountered\")\n",
    "            plt.xlabel(\"P(next_bit = 1)\")\n",
    "            plt.ylabel(\"Frequency\")\n",
    "            plt.savefig(f\"hat_p_i_distribution.png\") # Save the plot\n",
    "            print(f\"Saved hat_p_i distribution plot.\")\n",
    "            print(f\"Mean hat_p_i: {np.mean(hat_p_i_values):.4f}\")\n",
    "            print(f\"Std dev hat_p_i: {np.std(hat_p_i_values):.4f}\")\n",
    "            print(f\"Fraction near 0.5 (|p - 0.5| < 0.1): {np.mean(np.abs(np.array(hat_p_i_values) - 0.5) < 0.1):.4f}\")\n",
    "            \n",
    "        return output_tokens, output_text"
   ]
  },
  {
   "cell_type": "code",
   "execution_count": 36,
   "metadata": {},
   "outputs": [],
   "source": [
    "def setup(n, message_length, exp_id, fpr, prc_t):\n",
    "    if not os.path.exists(f'keys/{exp_id}.pkl'):  # Generate watermark key for the first time and save it to a file\n",
    "        print(\"Generating PRC keys...\")\n",
    "        (encoding_key_ori, decoding_key_ori) = KeyGen(n, message_length, false_positive_rate=fpr, t=prc_t)  # Sample PRC keys\n",
    "        with open(f'keys/{exp_id}.pkl', 'wb') as f:  # Save the keys to a file\n",
    "            pickle.dump((encoding_key_ori, decoding_key_ori), f)\n",
    "        with open(f'keys/{exp_id}.pkl', 'rb') as f:  # Load the keys from a file\n",
    "            encoding_key, decoding_key = pickle.load(f)\n",
    "        assert encoding_key[0].all() == encoding_key_ori[0].all()\n",
    "    else:  # Or we can just load the keys from a file\n",
    "        print(f'Loading PRC keys from file keys/{exp_id}.pkl')\n",
    "        with open(f'keys/{exp_id}.pkl', 'rb') as f:\n",
    "            encoding_key, decoding_key = pickle.load(f)\n",
    "        print(f'Loaded PRC keys from file keys/{exp_id}.pkl')\n",
    "    return encoding_key, decoding_key"
   ]
  },
  {
   "cell_type": "code",
   "execution_count": 37,
   "metadata": {},
   "outputs": [
    {
     "name": "stdout",
     "output_type": "stream",
     "text": [
      "Namespace(prompt='Tell me a fantastical story about a wizard.', test_num=10, model_id='meta-llama/Llama-3.2-1B-Instruct', inf_steps=50, nowm=0, fpr=1e-05, prc_t=3, n=4096)\n"
     ]
    }
   ],
   "source": [
    "parser = argparse.ArgumentParser('Args')\n",
    "parser.add_argument('--prompt', type=str, default='Tell me a fantastical story about a wizard.')\n",
    "parser.add_argument('--test_num', type=int, default=10)\n",
    "parser.add_argument('--model_id', type=str, default='meta-llama/Llama-3.2-1B-Instruct')\n",
    "# parser.add_argument('--dataset_id', type=str, default='databricks/databricks-dolly-15k')\n",
    "parser.add_argument('--inf_steps', type=int, default=50)\n",
    "parser.add_argument('--nowm', type=int, default=0)\n",
    "parser.add_argument('--fpr', type=float, default=0.00001)\n",
    "parser.add_argument('--prc_t', type=int, default=3)\n",
    "parser.add_argument('--n', type=int, default=2**12)\n",
    "args = parser.parse_args([])\n",
    "print(args)"
   ]
  },
  {
   "cell_type": "code",
   "execution_count": 38,
   "metadata": {},
   "outputs": [],
   "source": [
    "hf_cache_dir = '/home/lawrence/.cache/huggingface/hub'\n",
    "device = 'cuda' if torch.cuda.is_available() else 'cpu'\n",
    "n = args.n\n",
    "test_num = args.test_num\n",
    "model_id = args.model_id\n",
    "nowm = args.nowm\n",
    "fpr = args.fpr\n",
    "prc_t = 3\n",
    "exp_id = f'binarize_num_{test_num}_steps_{args.inf_steps}_t_{prc_t}_fpr_{fpr}_nowm_{nowm}_n_{n}'\n"
   ]
  },
  {
   "cell_type": "code",
   "execution_count": 39,
   "metadata": {},
   "outputs": [
    {
     "name": "stdout",
     "output_type": "stream",
     "text": [
      "Loading model...\n",
      "Model loaded on cuda\n"
     ]
    }
   ],
   "source": [
    "print(\"Loading model...\")\n",
    "config = AutoConfig.from_pretrained(model_id)\n",
    "tokenizer = AutoTokenizer.from_pretrained(model_id)\n",
    "tokenizer.padding_side = 'left'\n",
    "\n",
    "    # Add padding token if it doesn't exist\n",
    "if tokenizer.pad_token is None:\n",
    "    tokenizer.pad_token = tokenizer.eos_token\n",
    "\n",
    "vocab_size = config.vocab_size\n",
    "eos_token_id = tokenizer.eos_token_id\n",
    "\n",
    "model = AutoModelForCausalLM.from_pretrained(model_id)\n",
    "device = \"cuda\" if torch.cuda.is_available() else \"cpu\"\n",
    "model = model.to(device)\n",
    "\n",
    "print(f\"Model loaded on {device}\")"
   ]
  },
  {
   "cell_type": "code",
   "execution_count": 40,
   "metadata": {},
   "outputs": [],
   "source": [
    "random_encoding = True"
   ]
  },
  {
   "cell_type": "code",
   "execution_count": 41,
   "metadata": {},
   "outputs": [
    {
     "name": "stdout",
     "output_type": "stream",
     "text": [
      "Prompt: Tell me a fantastical story about a wizard.\n",
      "Setting up PRC keys for binarize_num_10_steps_50_t_3_fpr_1e-05_nowm_0_n_4096\n",
      "Loading PRC keys from file keys/binarize_num_10_steps_50_t_3_fpr_1e-05_nowm_0_n_4096.pkl\n",
      "Loaded PRC keys from file keys/binarize_num_10_steps_50_t_3_fpr_1e-05_nowm_0_n_4096.pkl\n",
      "PRC keys set up\n",
      "Encoding loaded\n",
      "Binarized model loaded\n"
     ]
    }
   ],
   "source": [
    "# Get the prompt\n",
    "prompt = args.prompt\n",
    "print(f\"Prompt: {prompt}\")\n",
    "\n",
    "# Get the encoding key\n",
    "print(f\"Setting up PRC keys for {exp_id}\")\n",
    "message_length = 0\n",
    "encoding_key, decoding_key = setup(n, message_length, exp_id, fpr, prc_t)\n",
    "print(f\"PRC keys set up\")\n",
    "\n",
    "if not os.path.exists(f'encoding.pkl'):\n",
    "    token_counts = {token_id: 0 for token_id in range(vocab_size)}\n",
    "    with open(\"pride_and_prejudice.txt\", \"r\", encoding=\"utf-8\") as f:\n",
    "        example_corpus = f.readlines()\n",
    "    for sentence in example_corpus:\n",
    "        input_ids = tokenizer.encode(sentence)\n",
    "        for token_id in input_ids:\n",
    "            token_counts[token_id] += 1\n",
    "\n",
    "    encoding = huffman_encode(token_counts)\n",
    "    # save encoding to file\n",
    "    with open(f'encoding.pkl', 'wb') as f:\n",
    "        pickle.dump(encoding, f)\n",
    "else:\n",
    "    with open(f'encoding.pkl', 'rb') as f:\n",
    "        encoding = pickle.load(f)\n",
    "print(f\"Encoding loaded\")\n",
    "\n",
    "decoding = {code: token_id for token_id, code in encoding.items()}\n",
    "\n",
    "import math\n",
    "if random_encoding:\n",
    "    code_length = math.ceil(math.log2(vocab_size))\n",
    "    encoding = {i: format(i, f'0{code_length}b') for i in range(vocab_size)}\n",
    "    decoding = {code: i for i, code in encoding.items()}\n",
    "\n",
    "# Binarize the model\n",
    "binarized_model = BinarizedModel(\n",
    "    original_model=model,\n",
    "    encoding_key=encoding_key,\n",
    "    decoding_key=decoding_key,\n",
    "    n=n,\n",
    "    tokenizer=tokenizer,\n",
    "    encoding=encoding,\n",
    "    decoding=decoding)\n",
    "print(f\"Binarized model loaded\")"
   ]
  },
  {
   "cell_type": "code",
   "execution_count": 42,
   "metadata": {},
   "outputs": [
    {
     "ename": "TypeError",
     "evalue": "can't convert cuda:0 device type tensor to numpy. Use Tensor.cpu() to copy the tensor to host memory first.",
     "output_type": "error",
     "traceback": [
      "\u001b[0;31m---------------------------------------------------------------------------\u001b[0m",
      "\u001b[0;31mTypeError\u001b[0m                                 Traceback (most recent call last)",
      "Cell \u001b[0;32mIn[42], line 2\u001b[0m\n\u001b[1;32m      1\u001b[0m \u001b[38;5;66;03m# Generate a bunch of texts of varying lengths\u001b[39;00m\n\u001b[0;32m----> 2\u001b[0m output_tokens, output_text \u001b[38;5;241m=\u001b[39m binarized_model\u001b[38;5;241m.\u001b[39mwatermarked_generate(prompt, num_bits\u001b[38;5;241m=\u001b[39mn)\n\u001b[1;32m      3\u001b[0m \u001b[38;5;28mprint\u001b[39m(\u001b[38;5;124mf\u001b[39m\u001b[38;5;124m\"\u001b[39m\u001b[38;5;124mOutput text: \u001b[39m\u001b[38;5;132;01m{\u001b[39;00moutput_text\u001b[38;5;132;01m}\u001b[39;00m\u001b[38;5;124m\"\u001b[39m)\n",
      "Cell \u001b[0;32mIn[35], line 154\u001b[0m, in \u001b[0;36mBinarizedModel.watermarked_generate\u001b[0;34m(self, prompt, num_bits, debug)\u001b[0m\n\u001b[1;32m    152\u001b[0m     probs \u001b[38;5;241m=\u001b[39m torch\u001b[38;5;241m.\u001b[39msoftmax(logits, dim\u001b[38;5;241m=\u001b[39m\u001b[38;5;241m0\u001b[39m)\n\u001b[1;32m    153\u001b[0m     original_token_probs \u001b[38;5;241m=\u001b[39m {i: probs[i]\u001b[38;5;241m.\u001b[39mitem() \u001b[38;5;28;01mfor\u001b[39;00m i \u001b[38;5;129;01min\u001b[39;00m \u001b[38;5;28mrange\u001b[39m(\u001b[38;5;28mlen\u001b[39m(probs))}\n\u001b[0;32m--> 154\u001b[0m     entropy \u001b[38;5;241m=\u001b[39m \u001b[38;5;241m-\u001b[39m\u001b[38;5;28msum\u001b[39m(p \u001b[38;5;241m*\u001b[39m np\u001b[38;5;241m.\u001b[39mlog2(p) \u001b[38;5;28;01mfor\u001b[39;00m p \u001b[38;5;129;01min\u001b[39;00m probs \u001b[38;5;28;01mif\u001b[39;00m p \u001b[38;5;241m>\u001b[39m \u001b[38;5;241m0\u001b[39m)\n\u001b[1;32m    155\u001b[0m     entropies\u001b[38;5;241m.\u001b[39mappend(entropy)\n\u001b[1;32m    157\u001b[0m \u001b[38;5;28;01mwith\u001b[39;00m tqdm(total\u001b[38;5;241m=\u001b[39mnum_bits, desc\u001b[38;5;241m=\u001b[39m\u001b[38;5;124m\"\u001b[39m\u001b[38;5;124mGenerating bits\u001b[39m\u001b[38;5;124m\"\u001b[39m, disable\u001b[38;5;241m=\u001b[39m\u001b[38;5;129;01mnot\u001b[39;00m debug) \u001b[38;5;28;01mas\u001b[39;00m pbar:\n",
      "Cell \u001b[0;32mIn[35], line 154\u001b[0m, in \u001b[0;36m<genexpr>\u001b[0;34m(.0)\u001b[0m\n\u001b[1;32m    152\u001b[0m     probs \u001b[38;5;241m=\u001b[39m torch\u001b[38;5;241m.\u001b[39msoftmax(logits, dim\u001b[38;5;241m=\u001b[39m\u001b[38;5;241m0\u001b[39m)\n\u001b[1;32m    153\u001b[0m     original_token_probs \u001b[38;5;241m=\u001b[39m {i: probs[i]\u001b[38;5;241m.\u001b[39mitem() \u001b[38;5;28;01mfor\u001b[39;00m i \u001b[38;5;129;01min\u001b[39;00m \u001b[38;5;28mrange\u001b[39m(\u001b[38;5;28mlen\u001b[39m(probs))}\n\u001b[0;32m--> 154\u001b[0m     entropy \u001b[38;5;241m=\u001b[39m \u001b[38;5;241m-\u001b[39m\u001b[38;5;28msum\u001b[39m(p \u001b[38;5;241m*\u001b[39m np\u001b[38;5;241m.\u001b[39mlog2(p) \u001b[38;5;28;01mfor\u001b[39;00m p \u001b[38;5;129;01min\u001b[39;00m probs \u001b[38;5;28;01mif\u001b[39;00m p \u001b[38;5;241m>\u001b[39m \u001b[38;5;241m0\u001b[39m)\n\u001b[1;32m    155\u001b[0m     entropies\u001b[38;5;241m.\u001b[39mappend(entropy)\n\u001b[1;32m    157\u001b[0m \u001b[38;5;28;01mwith\u001b[39;00m tqdm(total\u001b[38;5;241m=\u001b[39mnum_bits, desc\u001b[38;5;241m=\u001b[39m\u001b[38;5;124m\"\u001b[39m\u001b[38;5;124mGenerating bits\u001b[39m\u001b[38;5;124m\"\u001b[39m, disable\u001b[38;5;241m=\u001b[39m\u001b[38;5;129;01mnot\u001b[39;00m debug) \u001b[38;5;28;01mas\u001b[39;00m pbar:\n",
      "File \u001b[0;32m~/anaconda3/envs/watermark/lib/python3.11/site-packages/torch/_tensor.py:1030\u001b[0m, in \u001b[0;36mTensor.__array__\u001b[0;34m(self, dtype)\u001b[0m\n\u001b[1;32m   1028\u001b[0m     \u001b[38;5;28;01mreturn\u001b[39;00m handle_torch_function(Tensor\u001b[38;5;241m.\u001b[39m__array__, (\u001b[38;5;28mself\u001b[39m,), \u001b[38;5;28mself\u001b[39m, dtype\u001b[38;5;241m=\u001b[39mdtype)\n\u001b[1;32m   1029\u001b[0m \u001b[38;5;28;01mif\u001b[39;00m dtype \u001b[38;5;129;01mis\u001b[39;00m \u001b[38;5;28;01mNone\u001b[39;00m:\n\u001b[0;32m-> 1030\u001b[0m     \u001b[38;5;28;01mreturn\u001b[39;00m \u001b[38;5;28mself\u001b[39m\u001b[38;5;241m.\u001b[39mnumpy()\n\u001b[1;32m   1031\u001b[0m \u001b[38;5;28;01melse\u001b[39;00m:\n\u001b[1;32m   1032\u001b[0m     \u001b[38;5;28;01mreturn\u001b[39;00m \u001b[38;5;28mself\u001b[39m\u001b[38;5;241m.\u001b[39mnumpy()\u001b[38;5;241m.\u001b[39mastype(dtype, copy\u001b[38;5;241m=\u001b[39m\u001b[38;5;28;01mFalse\u001b[39;00m)\n",
      "\u001b[0;31mTypeError\u001b[0m: can't convert cuda:0 device type tensor to numpy. Use Tensor.cpu() to copy the tensor to host memory first."
     ]
    }
   ],
   "source": [
    "# Generate a bunch of texts of varying lengths\n",
    "output_tokens, output_text = binarized_model.watermarked_generate(prompt, num_bits=n)\n",
    "print(f\"Output text: {output_text}\")"
   ]
  },
  {
   "cell_type": "code",
   "execution_count": 25,
   "metadata": {},
   "outputs": [],
   "source": [
    "def detect_hamming_binary(binarized_model, watermarked_text_binary):\n",
    "    \"\"\"\n",
    "    Detects if the provided binary string is watermarked, using hamming distance.\n",
    "    \"\"\"\n",
    "    if len(watermarked_text_binary) < binarized_model.n:\n",
    "        watermarked_text_binary = torch.cat([watermarked_text_binary, torch.zeros(binarized_model.n - len(watermarked_text_binary))])\n",
    "\n",
    "    # wt(Px) < (1/2 - r^(-1/4)) * r, output 1, where P is the parity check matrix\n",
    "    parity_check_matrix = binarized_model.decoding_key[1]\n",
    "    r = parity_check_matrix.shape[0]\n",
    "    \n",
    "    # compute Px\n",
    "    Px = (parity_check_matrix @ watermarked_text_binary) % 2\n",
    "    \n",
    "    hamming_weight = np.sum(Px)\n",
    "    \n",
    "    threshold = (1/2 - r**(-1/4)) * r\n",
    "    # if below threshold, then detection\n",
    "    result = hamming_weight < threshold\n",
    "    \n",
    "    return threshold, hamming_weight, result\n",
    "\n",
    "def detect_hamming_text(binarized_model, watermarked_text):\n",
    "    \"\"\"\n",
    "    Detects if the provided text is watermarked, using hamming distance.\n",
    "    \"\"\"\n",
    "    # convert watermarked_text to binary string using encoding\n",
    "    watermarked_text_binary = ''.join([binarized_model.encoding[token_id] for token_id in watermarked_text])\n",
    "    watermarked_text_binary = torch.tensor([int(bit) for bit in watermarked_text_binary], dtype=float)\n",
    "\n",
    "    return detect_hamming_binary(binarized_model, watermarked_text_binary)"
   ]
  },
  {
   "cell_type": "code",
   "execution_count": 26,
   "metadata": {},
   "outputs": [
    {
     "name": "stdout",
     "output_type": "stream",
     "text": [
      "r: 4013\n",
      "expected r/2: 2006.5\n",
      "threshold: 1502.3011279211798\n"
     ]
    }
   ],
   "source": [
    "# expected r\n",
    "parity_check_matrix = binarized_model.decoding_key[1]\n",
    "r = parity_check_matrix.shape[0]\n",
    "expected_r_2 = r/2\n",
    "\n",
    "print(f\"r: {r}\")\n",
    "print(f\"expected r/2: {expected_r_2}\")\n",
    "\n",
    "# threshold\n",
    "threshold = (1/2 - r**(-1/4)) * r\n",
    "print(f\"threshold: {threshold}\")"
   ]
  },
  {
   "cell_type": "code",
   "execution_count": 27,
   "metadata": {},
   "outputs": [
    {
     "name": "stdout",
     "output_type": "stream",
     "text": [
      "threshold: 1502.3011279211798\n",
      "hamming_weight: 1932.0\n",
      "result: False\n"
     ]
    }
   ],
   "source": [
    "threshold, hamming_weight, result = detect_hamming_text(binarized_model, output_tokens)\n",
    "print(f\"threshold: {threshold}\")\n",
    "print(f\"hamming_weight: {hamming_weight}\")\n",
    "print(f\"result: {result}\")"
   ]
  },
  {
   "cell_type": "code",
   "execution_count": 28,
   "metadata": {},
   "outputs": [
    {
     "name": "stdout",
     "output_type": "stream",
     "text": [
      "sum(Px): 1979.0\n",
      "torch.Size([4096])\n",
      "(4013, 4096)\n"
     ]
    }
   ],
   "source": [
    "Px = (parity_check_matrix @ binarized_model.prc_codeword) % 2\n",
    "print(f\"sum(Px): {np.sum(Px)}\")\n",
    "print(binarized_model.prc_codeword.shape)\n",
    "print(parity_check_matrix.shape)"
   ]
  },
  {
   "cell_type": "code",
   "execution_count": 29,
   "metadata": {},
   "outputs": [],
   "source": [
    "def convert_watermarked_text_to_binary(binarized_model, watermarked_text):\n",
    "    watermarked_text_binary = ''.join([binarized_model.encoding[token_id] for token_id in watermarked_text])\n",
    "    watermarked_text_binary = torch.tensor([int(bit) for bit in watermarked_text_binary], dtype=float)\n",
    "    return watermarked_text_binary\n",
    "\n",
    "def corrupt_watermarked_text(binarized_model, watermarked_text, corruption_rate=0.1):\n",
    "    # Convert the watermarked text to binary format\n",
    "    watermarked_text_binary = convert_watermarked_text_to_binary(binarized_model, watermarked_text)\n",
    "    \n",
    "    # Create a mask of bits to flip based on the corruption rate\n",
    "    num_bits = len(watermarked_text_binary)\n",
    "    flip_mask = torch.rand(num_bits) < corruption_rate\n",
    "    \n",
    "    # flip the bits (0 to 1, 1 to 0)\n",
    "    watermarked_text_binary[flip_mask] = 1 - watermarked_text_binary[flip_mask]\n",
    "    \n",
    "    return watermarked_text_binary\n",
    "    "
   ]
  },
  {
   "cell_type": "code",
   "execution_count": 30,
   "metadata": {},
   "outputs": [
    {
     "name": "stdout",
     "output_type": "stream",
     "text": [
      "corruptions: 436.0\n",
      "length: 4080\n"
     ]
    }
   ],
   "source": [
    "watermarked_text_binary = convert_watermarked_text_to_binary(binarized_model, output_tokens)\n",
    "corrupted_watermarked_text_binary = corrupt_watermarked_text(binarized_model, output_tokens)\n",
    "print(f\"corruptions: {torch.sum(torch.abs(watermarked_text_binary - corrupted_watermarked_text_binary))}\")\n",
    "print(f\"length: {len(watermarked_text_binary)}\")"
   ]
  },
  {
   "cell_type": "code",
   "execution_count": 31,
   "metadata": {},
   "outputs": [],
   "source": [
    "# compute average detection rate\n",
    "corruption_rates = np.arange(0, 1, 0.1)\n",
    "detection_rates = []\n",
    "detection_rates_std = []\n",
    "for corruption_rate in corruption_rates:\n",
    "    detection_rate = []\n",
    "    for i in range(1000):\n",
    "        corrupted_watermarked_text_binary = corrupt_watermarked_text(binarized_model, output_tokens, corruption_rate)\n",
    "        threshold, hamming_weight, result = detect_hamming_binary(binarized_model, corrupted_watermarked_text_binary)\n",
    "        detection_rate.append(hamming_weight)\n",
    "    detection_rates.append(np.mean(detection_rate))\n",
    "    detection_rates_std.append(np.std(detection_rate))\n"
   ]
  },
  {
   "cell_type": "code",
   "execution_count": 32,
   "metadata": {},
   "outputs": [
    {
     "data": {
      "image/png": "[encoded data removed]",
      "text/plain": [
       "<Figure size 640x480 with 1 Axes>"
      ]
     },
     "metadata": {},
     "output_type": "display_data"
    }
   ],
   "source": [
    "plt.plot(corruption_rates, detection_rates)\n",
    "plt.fill_between(corruption_rates, np.array(detection_rates) - np.array(detection_rates_std), np.array(detection_rates) + np.array(detection_rates_std), alpha=0.2)\n",
    "# horizontal line at r/2\n",
    "plt.axhline(y=r/2, color='r', linestyle='--', label='Expected Detection Rate')\n",
    "plt.xlabel(\"Corruption Rate\")\n",
    "plt.ylabel(\"Detection Rate\")\n",
    "plt.legend()\n",
    "plt.show()"
   ]
  },
  {
   "cell_type": "code",
   "execution_count": 33,
   "metadata": {},
   "outputs": [
    {
     "data": {
      "image/png": "[encoded data removed]",
      "text/plain": [
       "<Figure size 640x480 with 1 Axes>"
      ]
     },
     "metadata": {},
     "output_type": "display_data"
    },
    {
     "name": "stdout",
     "output_type": "stream",
     "text": [
      "mean: 2007.345\n",
      "std: 31.95487404137278\n"
     ]
    }
   ],
   "source": [
    "# generate random binary string\n",
    "hamming_weights = []\n",
    "for i in range(1000):\n",
    "    random_binary_string = torch.rand(n)\n",
    "    random_binary_string[random_binary_string < 0.5] = 0\n",
    "    random_binary_string[random_binary_string >= 0.5] = 1\n",
    "    threshold, hamming_weight, result = detect_hamming_binary(binarized_model, random_binary_string)\n",
    "    hamming_weights.append(hamming_weight)\n",
    "\n",
    "plt.hist(hamming_weights, bins=100)\n",
    "plt.title(\"Hamming weight distribution of random binary strings\")\n",
    "plt.show()\n",
    "print(f\"mean: {np.mean(hamming_weights)}\")\n",
    "print(f\"std: {np.std(hamming_weights)}\")\n"
   ]
  },
  {
   "cell_type": "code",
   "execution_count": 34,
   "metadata": {},
   "outputs": [
    {
     "name": "stdout",
     "output_type": "stream",
     "text": [
      "sum(Px): 1979.0\n"
     ]
    },
    {
     "data": {
      "image/png": "[encoded data removed]",
      "text/plain": [
       "<Figure size 640x480 with 1 Axes>"
      ]
     },
     "metadata": {},
     "output_type": "display_data"
    }
   ],
   "source": [
    "# check PRC codeword\n",
    "P = binarized_model.decoding_key[1]\n",
    "Px = (P @ binarized_model.prc_codeword) % 2\n",
    "print(f\"sum(Px): {np.sum(Px)}\")\n",
    "\n",
    "def corrupt_binary_string(s, corruption_rate=0.1):\n",
    "    arr = np.array(list(s), dtype=int)\n",
    "    mask = np.random.rand(len(arr)) < corruption_rate\n",
    "    arr[mask] = 1 - arr[mask]  # flip the bits\n",
    "    return ''.join(arr.astype(str))\n",
    "\n",
    "# add noise to codeword\n",
    "corruption_rates = np.arange(0, 1, 0.1)\n",
    "hamming_weights = []\n",
    "hamming_weights_std = []\n",
    "for corruption_rate in corruption_rates:\n",
    "    trials = []\n",
    "    for i in range(1000):\n",
    "        corrupted_codeword = corrupt_binary_string(binarized_model.prc_codeword, corruption_rate)\n",
    "        Px = (P @ torch.tensor([int(bit) for bit in corrupted_codeword], dtype=float)) % 2\n",
    "        hamming_weight = np.sum(Px)\n",
    "        trials.append(hamming_weight)\n",
    "    hamming_weights.append(np.mean(trials))\n",
    "    hamming_weights_std.append(np.std(trials))\n",
    "\n",
    "plt.plot(corruption_rates, hamming_weights)\n",
    "plt.fill_between(corruption_rates, np.array(hamming_weights) - np.array(hamming_weights_std), np.array(hamming_weights) + np.array(hamming_weights_std), alpha=0.2)\n",
    "# add horizontal line at expected r/2\n",
    "plt.axhline(y=expected_r_2, color='r', linestyle='--', label=f'Expected Hamming Weight: {expected_r_2}')\n",
    "plt.xlabel(\"Corruption Rate\")\n",
    "plt.ylabel(\"Hamming Weight\")\n",
    "plt.legend()\n",
    "plt.show()\n"
   ]
  },
  {
   "cell_type": "code",
   "execution_count": null,
   "metadata": {},
   "outputs": [],
   "source": []
  }
 ],
 "metadata": {
  "kernelspec": {
   "display_name": "Python 3 (ipykernel)",
   "language": "python",
   "name": "python3"
  },
  "language_info": {
   "codemirror_mode": {
    "name": "ipython",
    "version": 3
   },
   "file_extension": ".py",
   "mimetype": "text/x-python",
   "name": "python",
   "nbconvert_exporter": "python",
   "pygments_lexer": "ipython3",
   "version": "3.11.9"
  }
 },
 "nbformat": 4,
 "nbformat_minor": 2
}
